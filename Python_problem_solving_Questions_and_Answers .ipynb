{
 "cells": [
  {
   "cell_type": "markdown",
   "id": "dd7aaab5",
   "metadata": {},
   "source": [
    "`Qns `: - Given a list of integers\n",
    "\n",
    "- Every Number in the list numbers is Repeats\n",
    "- But Exactly one Number in the list Won't have Duplicate\n",
    "- fing the number which is appearing exactly once.\n",
    "- Hint Is `Odd - man - out`\n",
    "\n",
    "Here the lst = **[1,2,3,3,2]** or  **[30,45,70,80,70,45,30]** How to get the 1. "
   ]
  },
  {
   "cell_type": "code",
   "execution_count": 4,
   "id": "ed7f6ca7",
   "metadata": {},
   "outputs": [
    {
     "name": "stdout",
     "output_type": "stream",
     "text": [
      "80\n"
     ]
    }
   ],
   "source": [
    "# Given a list\n",
    "\n",
    "a,b,c,d,e= 45,80,45,95,95\n",
    "\n",
    "# so in order to find this one we can use the Bitwise XOR operator \n",
    "# internally do binary numbersabs \n",
    "\n",
    "print(a^b^c^d^e)"
   ]
  }
 ],
 "metadata": {
  "kernelspec": {
   "display_name": "Python 3 (ipykernel)",
   "language": "python",
   "name": "python3"
  },
  "language_info": {
   "codemirror_mode": {
    "name": "ipython",
    "version": 3
   },
   "file_extension": ".py",
   "mimetype": "text/x-python",
   "name": "python",
   "nbconvert_exporter": "python",
   "pygments_lexer": "ipython3",
   "version": "3.7.0"
  },
  "nbTranslate": {
   "displayLangs": [
    "*"
   ],
   "hotkey": "alt-t",
   "langInMainMenu": true,
   "sourceLang": "en",
   "targetLang": "fr",
   "useGoogleTranslate": true
  }
 },
 "nbformat": 4,
 "nbformat_minor": 5
}
