{
 "cells": [
  {
   "cell_type": "markdown",
   "id": "14fdd438",
   "metadata": {},
   "source": [
    "**Identifiers**\n",
    "\n",
    "Rules to define identifiers\n",
    "\n",
    "- Any User name is identifiers : `variable Name` `Function name` \n",
    "                                        `Class name` \n",
    "- 1. Allowed Characters : \n",
    "                        \n",
    "                        Alphabets, Digits And Underscore Symbol\n",
    "                        A_Z,a_z,0_9,_\n",
    "- 2. Identifiers Should Never Start With A Digits.\n",
    "\n",
    "                        Ex : 1_var, either_,\n",
    "- 3. python identifier is a Case Sensitive. \n",
    "                        \n",
    "                        Ex : var = 10\n",
    "                             VAR = 10\n",
    "- 4. No lenght Limit. \n",
    "\n",
    "                        Ex : asdflkjasdflkjasdffgfgfasdf = 10\n",
    "- 5. Never Use a Keyword as identifier.\n",
    "\n",
    "                        Ex: if = 10 "
   ]
  },
  {
   "cell_type": "markdown",
   "id": "dd7aaab5",
   "metadata": {},
   "source": [
    "`Qns `: - Given a list of integers\n",
    "\n",
    "- Every Number in the list numbers is Repeats\n",
    "- But Exactly one Number in the list Won't have Duplicate\n",
    "- fing the number which is appearing exactly once.\n",
    "- Hint Is `Odd - man - out`\n",
    "\n",
    "Here the lst = **[1,2,3,3,2]** or  **[30,45,70,80,70,45,30]** How to get the 1. "
   ]
  },
  {
   "cell_type": "code",
   "execution_count": 1,
   "id": "e6b1a686",
   "metadata": {},
   "outputs": [
    {
     "name": "stdout",
     "output_type": "stream",
     "text": [
      "['False', 'None', 'True', 'and', 'as', 'assert', 'async', 'await', 'break', 'class', 'continue', 'def', 'del', 'elif', 'else', 'except', 'finally', 'for', 'from', 'global', 'if', 'import', 'in', 'is', 'lambda', 'nonlocal', 'not', 'or', 'pass', 'raise', 'return', 'try', 'while', 'with', 'yield']\n",
      "35\n"
     ]
    }
   ],
   "source": [
    "import keyword\n",
    "print(keyword.kwlist)\n",
    "print(len(keyword.kwlist))"
   ]
  },
  {
   "cell_type": "code",
   "execution_count": 3,
   "id": "114dd3ff",
   "metadata": {},
   "outputs": [
    {
     "name": "stdout",
     "output_type": "stream",
     "text": [
      "Enter A person Age:20\n",
      "He is Not Eligible For Vote\n"
     ]
    }
   ],
   "source": [
    "# Write a Program for If a person is Having 21 Years do Voting Or else Not Voting \n",
    "\n",
    "age = int(input('Enter A person Age:'))\n",
    "\n",
    "if age >= 21:\n",
    "    \n",
    "    print('He is eligible For Vote ')\n",
    "else:\n",
    "    print('He is Not Eligible For Vote')"
   ]
  },
  {
   "cell_type": "code",
   "execution_count": 4,
   "id": "db24b087",
   "metadata": {},
   "outputs": [
    {
     "name": "stdout",
     "output_type": "stream",
     "text": [
      "RajKumar\n"
     ]
    }
   ],
   "source": [
    "# String Concatination \n",
    "\n",
    "a = 'Raj'\n",
    "b = 'Kumar'\n",
    "print(a+b)"
   ]
  },
  {
   "cell_type": "code",
   "execution_count": 5,
   "id": "bdb1f49a",
   "metadata": {},
   "outputs": [
    {
     "name": "stdout",
     "output_type": "stream",
     "text": [
      "11\n"
     ]
    }
   ],
   "source": [
    "a = '1'\n",
    "\n",
    "b = '1'\n",
    "\n",
    "print(a+b)"
   ]
  },
  {
   "cell_type": "markdown",
   "id": "7e121b7d",
   "metadata": {},
   "source": [
    "### Data Types\n",
    "As we know that python is Dynamically typed programming language, than why do we need to learn about data type at all?\n",
    "\n",
    "Although python automatically understands the data type, but it is important to know about data types so that we can utilize the power of data structures in future.\n",
    "\n",
    "Basic Data Types available in python are:\n",
    "\n",
    "    Numeric - int, float, complex (Immutable)\n",
    "    Boolean - bool (True/False)\n",
    "    Strings (Immutable)\n",
    "    List (Mutable, mostly used to store homogeneous data types)\n",
    "    Tuple (Immutable, faster compared to List)\n",
    "    Set (Unordered collection of items, mutable, removes duplicates)\n",
    "    Dictionary (Unordered collection of Key-Value Pairs, Mutable, Keys are Unique - values may not be unique)\n"
   ]
  },
  {
   "cell_type": "markdown",
   "id": "8507fe23",
   "metadata": {},
   "source": [
    "#### Numeric Datatypes -> int, float, complex"
   ]
  },
  {
   "cell_type": "code",
   "execution_count": 6,
   "id": "d229cbbd",
   "metadata": {},
   "outputs": [
    {
     "name": "stdout",
     "output_type": "stream",
     "text": [
      "<class 'int'>\n",
      "<class 'float'>\n",
      "<class 'complex'>\n"
     ]
    }
   ],
   "source": [
    "a = 5;\n",
    "\n",
    "b = 5.0;\n",
    "\n",
    "c = 5 + 0j;\n",
    "\n",
    "print(type(a))\n",
    "\n",
    "print(type(b))\n",
    "\n",
    "print(type(c))"
   ]
  },
  {
   "cell_type": "code",
   "execution_count": 7,
   "id": "51026eb5",
   "metadata": {},
   "outputs": [
    {
     "name": "stdout",
     "output_type": "stream",
     "text": [
      "1.2e+34\n",
      "<class 'float'>\n"
     ]
    }
   ],
   "source": [
    "f = 1.2E34\n",
    "\n",
    "# f = 1.23e34 and f = 1.23e+34 are equivalent\n",
    "\n",
    "print(f)\n",
    "\n",
    "print(type(f))"
   ]
  },
  {
   "cell_type": "code",
   "execution_count": 8,
   "id": "fa05de24",
   "metadata": {},
   "outputs": [
    {
     "name": "stdout",
     "output_type": "stream",
     "text": [
      "<class 'complex'>\n",
      "(15+20j)\n",
      "True\n",
      "10.0\n",
      "20.0\n"
     ]
    }
   ],
   "source": [
    "c = 10+20j\n",
    "\n",
    "print(type(c))\n",
    "\n",
    "print(c + 5)\n",
    "\n",
    "print(isinstance(c, complex))\n",
    "\n",
    "print(c.real)\n",
    "\n",
    "print(c.imag)"
   ]
  },
  {
   "cell_type": "markdown",
   "id": "c7881b16",
   "metadata": {},
   "source": [
    "%d - Integers, %s - String "
   ]
  },
  {
   "cell_type": "code",
   "execution_count": 9,
   "id": "ae7178c1",
   "metadata": {},
   "outputs": [
    {
     "name": "stdout",
     "output_type": "stream",
     "text": [
      "8\n",
      "8\n"
     ]
    }
   ],
   "source": [
    "\"\"\"\n",
    "num = input()\n",
    "print(num)\n",
    "\"\"\"\n",
    "\n",
    "#  input from the user and then prints the input using the old-style string formatting with %d.\n",
    "\n",
    "num = int(input())\n",
    "print('%d' %(num))\n",
    "\n",
    "# In Python, the %d is a placeholder used in string formatting to represent an `integer`."
   ]
  },
  {
   "cell_type": "code",
   "execution_count": 10,
   "id": "cc28e263",
   "metadata": {},
   "outputs": [
    {
     "name": "stdout",
     "output_type": "stream",
     "text": [
      "Enter a Wishes:thankyou\n",
      "thankyou\n"
     ]
    }
   ],
   "source": [
    "# num = input('Please enter a number: ')\n",
    "# print('User has entered %d. Thankyou' % num)\n",
    "\n",
    "wishes = input('Enter a Wishes:')\n",
    "\n",
    "print('%s' %(wishes))"
   ]
  },
  {
   "cell_type": "code",
   "execution_count": 11,
   "id": "c33e3d71",
   "metadata": {},
   "outputs": [
    {
     "name": "stdout",
     "output_type": "stream",
     "text": [
      "5 6 string\n",
      "5 6 string\n",
      "5 6 string\n"
     ]
    }
   ],
   "source": [
    "a = 5\n",
    "\n",
    "b = 6\n",
    "\n",
    "c = 'string'\n",
    "\n",
    "print(a, b, c)\n",
    "\n",
    "print('%d %d %s' % (a, b, c))\n",
    "\n",
    "print('{0} {1} {2}'.format(a, b, c))\n",
    "\n",
    "# c a b"
   ]
  },
  {
   "cell_type": "code",
   "execution_count": 12,
   "id": "8e21cd51",
   "metadata": {},
   "outputs": [
    {
     "name": "stdout",
     "output_type": "stream",
     "text": [
      "545454545454\n",
      "5 6 7\n",
      "Python 1 2\n",
      "1_2_3\n",
      "1,2,3*123\n"
     ]
    }
   ],
   "source": [
    "# This entire statement won't be displayed\n",
    "\n",
    "print('54'*6)\n",
    "\n",
    "print(5,6,7) # sep = ' ', end = '\\n'\n",
    "\n",
    "print('Python', 1, 2)\n",
    "\n",
    "print(1,2,3, sep='_')\n",
    "\n",
    "print(1,2,3, sep=',', end='*')\n",
    "\n",
    "print(123)"
   ]
  },
  {
   "cell_type": "markdown",
   "id": "7ec233c2",
   "metadata": {},
   "source": [
    "### Frozen Set : \n",
    "**It is a Set. It is a immutable set. A frozenset in Python is an immutable version of a set. \n",
    "While regular sets are mutable, meaning that you can add, remove, or update elements, a frozenset is immutable, and its elements\n",
    "cannot be changed after it is created**\n",
    "\n"
   ]
  },
  {
   "cell_type": "code",
   "execution_count": 13,
   "id": "b7111004",
   "metadata": {},
   "outputs": [
    {
     "name": "stdout",
     "output_type": "stream",
     "text": [
      "frozenset({1, 2, 3, 4, 5})\n"
     ]
    }
   ],
   "source": [
    "fs = frozenset((1,2,2,3,4,5))\n",
    "print(fs)"
   ]
  },
  {
   "cell_type": "markdown",
   "id": "5c45d165",
   "metadata": {},
   "source": [
    " **What are the basic arithmetic operators in Python?**\n"
   ]
  },
  {
   "cell_type": "code",
   "execution_count": 14,
   "id": "7e4978e9",
   "metadata": {},
   "outputs": [
    {
     "name": "stdout",
     "output_type": "stream",
     "text": [
      "Addition Operator 16\n",
      "4\n",
      "60\n",
      "1\n",
      "1.6666666666666667\n",
      "4\n",
      "1000000\n"
     ]
    }
   ],
   "source": [
    "a = 10\n",
    "b = 6\n",
    "print('Addition Operator {}'.format(a+b)) # Addition Operator \n",
    "print(a-b) # substraction \n",
    "print(a*b) # multiplication \n",
    "print(a//b) # floor devision it is given a Exactly integer Value \n",
    "print(a/b) # division it is give a float value \n",
    "print(a%b) # modulus \n",
    "print(a**b) #exponent Operator"
   ]
  },
  {
   "cell_type": "code",
   "execution_count": 15,
   "id": "8fc769ef",
   "metadata": {},
   "outputs": [
    {
     "name": "stdout",
     "output_type": "stream",
     "text": [
      "a<b =  False\n",
      "a<=b =  False\n",
      "a>b =  True\n",
      "a>=b =  True\n"
     ]
    }
   ],
   "source": [
    "# Relational Operators\n",
    "\n",
    "a = 10;\n",
    "b = 6;\n",
    "print('a<b = ', a<b);\n",
    "print('a<=b = ', a<=b);\n",
    "print('a>b = ', a>b);\n",
    "print('a>=b = ', a>=b);"
   ]
  },
  {
   "cell_type": "code",
   "execution_count": 16,
   "id": "8b47e58a",
   "metadata": {},
   "outputs": [
    {
     "name": "stdout",
     "output_type": "stream",
     "text": [
      "a==b  False\n",
      "a!=b  True\n"
     ]
    }
   ],
   "source": [
    "# Equality Operators\n",
    "\n",
    "a = 10;\n",
    "b = 6;\n",
    "print('a==b ', a==b);\n",
    "print('a!=b ', a!=b);"
   ]
  },
  {
   "cell_type": "code",
   "execution_count": 17,
   "id": "1dd5c648",
   "metadata": {},
   "outputs": [
    {
     "name": "stdout",
     "output_type": "stream",
     "text": [
      "False\n",
      "True\n",
      "True\n"
     ]
    }
   ],
   "source": [
    "# Logical Operators\n",
    "\n",
    "print(5 < 6 and 6 < 6)\n",
    "\n",
    "print(5 < 6 or 6 < 6)\n",
    "\n",
    "print(not(5 < 6 and 6 < 6))"
   ]
  },
  {
   "cell_type": "code",
   "execution_count": 18,
   "id": "c67c7e68",
   "metadata": {},
   "outputs": [
    {
     "name": "stdout",
     "output_type": "stream",
     "text": [
      "0\n",
      "15\n",
      "15\n",
      "-11\n"
     ]
    }
   ],
   "source": [
    "# Bitwise\n",
    "# & -> if both bits are 1 then 1 otherwise 0\n",
    "# | -> if both bits are 0 then 0 otherwise 1\n",
    "# ^ -> if both bits are different then 1 otherwise 0\n",
    "# ~ -> bitwise complement\n",
    "\n",
    "print(5 & 10)\n",
    "\n",
    "print(5 | 10)\n",
    "\n",
    "print(5 ^ 10)\n",
    "\n",
    "print(~10)"
   ]
  },
  {
   "cell_type": "markdown",
   "id": "ce4e8e5c",
   "metadata": {},
   "source": [
    "## Handson"
   ]
  },
  {
   "cell_type": "code",
   "execution_count": 19,
   "id": "ed7f6ca7",
   "metadata": {},
   "outputs": [
    {
     "name": "stdout",
     "output_type": "stream",
     "text": [
      "80\n"
     ]
    }
   ],
   "source": [
    "# Given a list\n",
    "\n",
    "a,b,c,d,e= 45,80,45,95,95\n",
    "\n",
    "# so in order to find this one we can use the Bitwise XOR operator \n",
    "# internally do binary numbersabs \n",
    "\n",
    "print(a^b^c^d^e)"
   ]
  },
  {
   "cell_type": "code",
   "execution_count": 20,
   "id": "d9730c90",
   "metadata": {},
   "outputs": [
    {
     "name": "stdout",
     "output_type": "stream",
     "text": [
      "My name is 'Alice'and I am '30'years old.\n"
     ]
    }
   ],
   "source": [
    "name = \"Alice\"\n",
    "age = 30\n",
    "formatted_string = \"My name is '%s'and I am '%d'years old.\" % (name, age)\n",
    "print(formatted_string)"
   ]
  },
  {
   "cell_type": "code",
   "execution_count": 21,
   "id": "5f740efd",
   "metadata": {},
   "outputs": [
    {
     "name": "stdout",
     "output_type": "stream",
     "text": [
      "6 5\n",
      "5\n",
      "6\n",
      "5 6\n"
     ]
    }
   ],
   "source": [
    "# Swap two numbers\n",
    "\n",
    "a = 6\n",
    "b = 5\n",
    "print(a,b)\n",
    "c = a\n",
    "a = b \n",
    "b = c\n",
    "print(a)\n",
    "print(b)\n",
    "print(a,b)"
   ]
  },
  {
   "cell_type": "code",
   "execution_count": 22,
   "id": "fdc7ea2c",
   "metadata": {},
   "outputs": [
    {
     "name": "stdout",
     "output_type": "stream",
     "text": [
      "10 5\n",
      "15\n",
      "10\n",
      "5\n"
     ]
    }
   ],
   "source": [
    "# Swap two numbers without using third number\n",
    "a = 10\n",
    "b = 5\n",
    "print(a,b)\n",
    "a = a ^ b\n",
    "print(a)\n",
    "b = a ^ b \n",
    "print(b)\n",
    "a = a ^ b \n",
    "print(a)"
   ]
  },
  {
   "cell_type": "code",
   "execution_count": 23,
   "id": "8783d9af",
   "metadata": {},
   "outputs": [
    {
     "name": "stdout",
     "output_type": "stream",
     "text": [
      "The 2-th bit of 23 is: 1\n"
     ]
    }
   ],
   "source": [
    "# Extract ith bit of a number\n",
    "def extract_ith_bit(number, i):\n",
    "    # Right shift the number i positions to bring the ith bit to the rightmost position\n",
    "    shifted_number = number >> i\n",
    "    # Use bitwise AND with 1 to extract the rightmost bit (ith bit)\n",
    "    result = shifted_number & 1\n",
    "    return result\n",
    "\n",
    "# Example\n",
    "number = 23  # Binary representation: 10111\n",
    "i = 2\n",
    "result = extract_ith_bit(number, i)\n",
    "print(f\"The {i}-th bit of {number} is: {result}\")\n"
   ]
  }
 ],
 "metadata": {
  "kernelspec": {
   "display_name": "Python 3 (ipykernel)",
   "language": "python",
   "name": "python3"
  },
  "language_info": {
   "codemirror_mode": {
    "name": "ipython",
    "version": 3
   },
   "file_extension": ".py",
   "mimetype": "text/x-python",
   "name": "python",
   "nbconvert_exporter": "python",
   "pygments_lexer": "ipython3",
   "version": "3.7.0"
  },
  "nbTranslate": {
   "displayLangs": [
    "*"
   ],
   "hotkey": "alt-t",
   "langInMainMenu": true,
   "sourceLang": "en",
   "targetLang": "fr",
   "useGoogleTranslate": true
  }
 },
 "nbformat": 4,
 "nbformat_minor": 5
}
