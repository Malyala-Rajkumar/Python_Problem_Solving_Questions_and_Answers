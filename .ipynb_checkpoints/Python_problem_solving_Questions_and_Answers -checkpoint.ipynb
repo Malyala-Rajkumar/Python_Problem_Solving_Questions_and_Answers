{
 "cells": [
  {
   "cell_type": "markdown",
   "id": "14fdd438",
   "metadata": {},
   "source": [
    "**Identifiers**\n",
    "\n",
    "Rules to define identifiers\n",
    "\n",
    "- Any User name is identifiers : `variable Name` `Function name` \n",
    "                                        `Class name` \n",
    "- 1. Allowed Characters : \n",
    "                        \n",
    "                        Alphabets, Digits And Underscore Symbol\n",
    "                        A_Z,a_z,0_9,_\n",
    "- 2. Identifiers Should Never Start With A Digits.\n",
    "\n",
    "                        Ex : 1_var, either_,\n",
    "- 3. python identifier is a Case Sensitive. \n",
    "                        \n",
    "                        Ex : var = 10\n",
    "                             VAR = 10\n",
    "- 4. No lenght Limit. \n",
    "\n",
    "                        Ex : asdflkjasdflkjasdffgfgfasdf = 10\n",
    "- 5. Never Use a Keyword as identifier.\n",
    "\n",
    "                        Ex: if = 10 "
   ]
  },
  {
   "cell_type": "markdown",
   "id": "dd7aaab5",
   "metadata": {},
   "source": [
    "`Qns `: - Given a list of integers\n",
    "\n",
    "- Every Number in the list numbers is Repeats\n",
    "- But Exactly one Number in the list Won't have Duplicate\n",
    "- fing the number which is appearing exactly once.\n",
    "- Hint Is `Odd - man - out`\n",
    "\n",
    "Here the lst = **[1,2,3,3,2]** or  **[30,45,70,80,70,45,30]** How to get the 1. "
   ]
  },
  {
   "cell_type": "code",
   "execution_count": 2,
   "id": "e6b1a686",
   "metadata": {},
   "outputs": [
    {
     "name": "stdout",
     "output_type": "stream",
     "text": [
      "['False', 'None', 'True', 'and', 'as', 'assert', 'async', 'await', 'break', 'class', 'continue', 'def', 'del', 'elif', 'else', 'except', 'finally', 'for', 'from', 'global', 'if', 'import', 'in', 'is', 'lambda', 'nonlocal', 'not', 'or', 'pass', 'raise', 'return', 'try', 'while', 'with', 'yield']\n",
      "35\n"
     ]
    }
   ],
   "source": [
    "import keyword\n",
    "print(keyword.kwlist)\n",
    "print(len(keyword.kwlist))"
   ]
  },
  {
   "cell_type": "code",
   "execution_count": 1,
   "id": "ed7f6ca7",
   "metadata": {},
   "outputs": [
    {
     "name": "stdout",
     "output_type": "stream",
     "text": [
      "80\n"
     ]
    }
   ],
   "source": [
    "# Given a list\n",
    "\n",
    "a,b,c,d,e= 45,80,45,95,95\n",
    "\n",
    "# so in order to find this one we can use the Bitwise XOR operator \n",
    "# internally do binary numbersabs \n",
    "\n",
    "print(a^b^c^d^e)"
   ]
  },
  {
   "cell_type": "markdown",
   "id": "5c45d165",
   "metadata": {},
   "source": [
    " **What are the basic arithmetic operators in Python?**\n"
   ]
  },
  {
   "cell_type": "code",
   "execution_count": 10,
   "id": "7e4978e9",
   "metadata": {},
   "outputs": [
    {
     "name": "stdout",
     "output_type": "stream",
     "text": [
      "Addition Operator 16\n",
      "4\n",
      "60\n",
      "1\n",
      "1.6666666666666667\n",
      "4\n",
      "1000000\n"
     ]
    }
   ],
   "source": [
    "a = 10\n",
    "b = 6\n",
    "print('Addition Operator {}'.format(a+b)) # Addition Operator \n",
    "print(a-b) # substraction \n",
    "print(a*b) # multiplication \n",
    "print(a//b) # floor devision it is given a Exactly integer Value \n",
    "print(a/b) # division it is give a float value \n",
    "print(a%b) # modulus \n",
    "print(a**b) #exponent Operator"
   ]
  },
  {
   "cell_type": "code",
   "execution_count": 6,
   "id": "d9730c90",
   "metadata": {},
   "outputs": [
    {
     "name": "stdout",
     "output_type": "stream",
     "text": [
      "My name is Alice and I am 30 years old.\n"
     ]
    }
   ],
   "source": [
    "name = \"Alice\"\n",
    "age = 30\n",
    "formatted_string = \"My name is {} and I am {} years old.\".format(name, age)\n",
    "print(formatted_string)"
   ]
  },
  {
   "cell_type": "code",
   "execution_count": null,
   "id": "c0cab462",
   "metadata": {},
   "outputs": [],
   "source": []
  },
  {
   "cell_type": "code",
   "execution_count": null,
   "id": "03cd0412",
   "metadata": {},
   "outputs": [],
   "source": []
  },
  {
   "cell_type": "code",
   "execution_count": null,
   "id": "ec20f395",
   "metadata": {},
   "outputs": [],
   "source": []
  },
  {
   "cell_type": "code",
   "execution_count": null,
   "id": "41046bdb",
   "metadata": {},
   "outputs": [],
   "source": []
  },
  {
   "cell_type": "code",
   "execution_count": null,
   "id": "615b60ec",
   "metadata": {},
   "outputs": [],
   "source": []
  },
  {
   "cell_type": "code",
   "execution_count": null,
   "id": "8a27d998",
   "metadata": {},
   "outputs": [],
   "source": []
  },
  {
   "cell_type": "code",
   "execution_count": null,
   "id": "68efbdd7",
   "metadata": {},
   "outputs": [],
   "source": []
  }
 ],
 "metadata": {
  "kernelspec": {
   "display_name": "Python 3 (ipykernel)",
   "language": "python",
   "name": "python3"
  },
  "language_info": {
   "codemirror_mode": {
    "name": "ipython",
    "version": 3
   },
   "file_extension": ".py",
   "mimetype": "text/x-python",
   "name": "python",
   "nbconvert_exporter": "python",
   "pygments_lexer": "ipython3",
   "version": "3.7.0"
  },
  "nbTranslate": {
   "displayLangs": [
    "*"
   ],
   "hotkey": "alt-t",
   "langInMainMenu": true,
   "sourceLang": "en",
   "targetLang": "fr",
   "useGoogleTranslate": true
  }
 },
 "nbformat": 4,
 "nbformat_minor": 5
}
